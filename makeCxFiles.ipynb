{
 "cells": [
  {
   "cell_type": "code",
   "execution_count": 34,
   "metadata": {},
   "outputs": [],
   "source": [
    "import numpy as np\n",
    "import pandas as pd\n",
    "import matplotlib.pyplot as plt"
   ]
  },
  {
   "cell_type": "code",
   "execution_count": 2,
   "metadata": {},
   "outputs": [],
   "source": [
    "cxData_shielding = pd.read_excel(\"./cxData.xlsx\", sheet_name = \"shielding materials\")\n",
    "cxData_ss304 = pd.read_excel(\"./cxData.xlsx\", sheet_name = \"ASS304\")\n",
    "cxData_conc = pd.read_excel(\"./cxData.xlsx\", sheet_name = \"Concrete(2)\")"
   ]
  },
  {
   "cell_type": "markdown",
   "metadata": {},
   "source": [
    "# Cx Data 곱하기\n",
    "\n",
    "<!-- Compound 수밀도 $\\times$ 존재비율 (wt.%) $\\times$ Cx -->\n",
    "\n",
    "### H2O  \n",
    "-> H 값 몇 배 ? O 값 몇 배?  \n",
    "-> H의 수밀도 $\\times$ $\\sigma$ $\\times$ 2 + O의 수밀도 $\\times$ $\\sigma$ = H2O의 거시적 단면적"
   ]
  },
  {
   "cell_type": "code",
   "execution_count": 3,
   "metadata": {},
   "outputs": [],
   "source": [
    "# Be-9  : el.scattering capture \n",
    "# H-1   : el.scattering.1 capture.1\n",
    "# O-16  : el.scattering.2 capture.2\n",
    "# C-12  : el.scattering.3 capture.3\n",
    "\n",
    "# print(cxData_shielding) \n",
    "# print(cxData_ss304)\n",
    "# print(cxData_conc)"
   ]
  },
  {
   "cell_type": "markdown",
   "metadata": {},
   "source": [
    "# H2O"
   ]
  },
  {
   "cell_type": "markdown",
   "metadata": {},
   "source": [
    "### Load Cx Data"
   ]
  },
  {
   "cell_type": "code",
   "execution_count": 4,
   "metadata": {},
   "outputs": [
    {
     "name": "stdout",
     "output_type": "stream",
     "text": [
      "5.019465444371687e+19\n",
      "5.014460903806487e+19\n"
     ]
    }
   ],
   "source": [
    "Na = 6.023 * 10**(23)\n",
    "barn = 10**(-24)\n",
    "\n",
    "H1_Energylst = cxData_shielding[\"H-1\"].drop(0)\n",
    "H1_elasticScattering = cxData_shielding[\"el.scattering.1\"].drop(0)\n",
    "H1_capture = cxData_shielding[\"capture.1\"].drop(0)\n",
    "H1_numberdensity = (Na / 1.00794) * 0.000084\n",
    "print(H1_numberdensity) # #/cm3\n",
    "\n",
    "O16_Energylst = cxData_shielding[\"O-16\"].drop(0)\n",
    "O16_elasticScattering = cxData_shielding[\"el.scattering.2\"].drop(0)\n",
    "O16_capture = cxData_shielding[\"capture.2\"].drop(0)\n",
    "O16_numberdensity = (Na / 15.999) * 0.001332\n",
    "print(O16_numberdensity)"
   ]
  },
  {
   "cell_type": "code",
   "execution_count": 20,
   "metadata": {},
   "outputs": [
    {
     "data": {
      "text/html": [
       "<div>\n",
       "<style scoped>\n",
       "    .dataframe tbody tr th:only-of-type {\n",
       "        vertical-align: middle;\n",
       "    }\n",
       "\n",
       "    .dataframe tbody tr th {\n",
       "        vertical-align: top;\n",
       "    }\n",
       "\n",
       "    .dataframe thead th {\n",
       "        text-align: right;\n",
       "    }\n",
       "</style>\n",
       "<table border=\"1\" class=\"dataframe\">\n",
       "  <thead>\n",
       "    <tr style=\"text-align: right;\">\n",
       "      <th></th>\n",
       "      <th>Be-9</th>\n",
       "      <th>el.scattering</th>\n",
       "      <th>capture</th>\n",
       "      <th>H-1</th>\n",
       "      <th>el.scattering.1</th>\n",
       "      <th>capture.1</th>\n",
       "      <th>O-16</th>\n",
       "      <th>el.scattering.2</th>\n",
       "      <th>capture.2</th>\n",
       "      <th>C-12</th>\n",
       "      <th>el.scattering.3</th>\n",
       "      <th>capture.3</th>\n",
       "    </tr>\n",
       "  </thead>\n",
       "  <tbody>\n",
       "    <tr>\n",
       "      <th>0</th>\n",
       "      <td>Energy(eV)</td>\n",
       "      <td>XS(b)</td>\n",
       "      <td>XS(b)</td>\n",
       "      <td>Energy(eV)</td>\n",
       "      <td>XS(b)</td>\n",
       "      <td>XS(b)</td>\n",
       "      <td>Energy(eV)</td>\n",
       "      <td>XS(b)</td>\n",
       "      <td>XS(b)</td>\n",
       "      <td>Energy(eV)</td>\n",
       "      <td>XS(b)</td>\n",
       "      <td>XS(b)</td>\n",
       "    </tr>\n",
       "    <tr>\n",
       "      <th>1</th>\n",
       "      <td>0.00001</td>\n",
       "      <td>118.253</td>\n",
       "      <td>0.504006</td>\n",
       "      <td>0.00001</td>\n",
       "      <td>1173.11</td>\n",
       "      <td>16.7299</td>\n",
       "      <td>0.00001</td>\n",
       "      <td>54.7724</td>\n",
       "      <td>0.008545</td>\n",
       "      <td>0.00001</td>\n",
       "      <td>79.1113</td>\n",
       "      <td>0.194257</td>\n",
       "    </tr>\n",
       "    <tr>\n",
       "      <th>2</th>\n",
       "      <td>0.00001</td>\n",
       "      <td>116.451</td>\n",
       "      <td>0.496311</td>\n",
       "      <td>0.00001</td>\n",
       "      <td>1155.2</td>\n",
       "      <td>16.4744</td>\n",
       "      <td>0.00001</td>\n",
       "      <td>53.9395</td>\n",
       "      <td>0.008415</td>\n",
       "      <td>0.00001</td>\n",
       "      <td>77.9072</td>\n",
       "      <td>0.191291</td>\n",
       "    </tr>\n",
       "    <tr>\n",
       "      <th>3</th>\n",
       "      <td>0.000011</td>\n",
       "      <td>114.73</td>\n",
       "      <td>0.488958</td>\n",
       "      <td>0.000011</td>\n",
       "      <td>1138.09</td>\n",
       "      <td>16.2303</td>\n",
       "      <td>0.000011</td>\n",
       "      <td>53.1438</td>\n",
       "      <td>0.00829</td>\n",
       "      <td>0.000011</td>\n",
       "      <td>76.7566</td>\n",
       "      <td>0.188457</td>\n",
       "    </tr>\n",
       "    <tr>\n",
       "      <th>4</th>\n",
       "      <td>0.000011</td>\n",
       "      <td>113.083</td>\n",
       "      <td>0.481922</td>\n",
       "      <td>0.000011</td>\n",
       "      <td>1121.72</td>\n",
       "      <td>15.9968</td>\n",
       "      <td>0.000011</td>\n",
       "      <td>52.3824</td>\n",
       "      <td>0.008171</td>\n",
       "      <td>0.000011</td>\n",
       "      <td>75.6557</td>\n",
       "      <td>0.185745</td>\n",
       "    </tr>\n",
       "    <tr>\n",
       "      <th>...</th>\n",
       "      <td>...</td>\n",
       "      <td>...</td>\n",
       "      <td>...</td>\n",
       "      <td>...</td>\n",
       "      <td>...</td>\n",
       "      <td>...</td>\n",
       "      <td>...</td>\n",
       "      <td>...</td>\n",
       "      <td>...</td>\n",
       "      <td>...</td>\n",
       "      <td>...</td>\n",
       "      <td>...</td>\n",
       "    </tr>\n",
       "    <tr>\n",
       "      <th>2981</th>\n",
       "      <td>NaN</td>\n",
       "      <td>NaN</td>\n",
       "      <td>NaN</td>\n",
       "      <td>NaN</td>\n",
       "      <td>NaN</td>\n",
       "      <td>NaN</td>\n",
       "      <td>142000000</td>\n",
       "      <td>0.170414</td>\n",
       "      <td>0</td>\n",
       "      <td>NaN</td>\n",
       "      <td>NaN</td>\n",
       "      <td>NaN</td>\n",
       "    </tr>\n",
       "    <tr>\n",
       "      <th>2982</th>\n",
       "      <td>NaN</td>\n",
       "      <td>NaN</td>\n",
       "      <td>NaN</td>\n",
       "      <td>NaN</td>\n",
       "      <td>NaN</td>\n",
       "      <td>NaN</td>\n",
       "      <td>144000000</td>\n",
       "      <td>0.164747</td>\n",
       "      <td>0</td>\n",
       "      <td>NaN</td>\n",
       "      <td>NaN</td>\n",
       "      <td>NaN</td>\n",
       "    </tr>\n",
       "    <tr>\n",
       "      <th>2983</th>\n",
       "      <td>NaN</td>\n",
       "      <td>NaN</td>\n",
       "      <td>NaN</td>\n",
       "      <td>NaN</td>\n",
       "      <td>NaN</td>\n",
       "      <td>NaN</td>\n",
       "      <td>146000000</td>\n",
       "      <td>0.15908</td>\n",
       "      <td>0</td>\n",
       "      <td>NaN</td>\n",
       "      <td>NaN</td>\n",
       "      <td>NaN</td>\n",
       "    </tr>\n",
       "    <tr>\n",
       "      <th>2984</th>\n",
       "      <td>NaN</td>\n",
       "      <td>NaN</td>\n",
       "      <td>NaN</td>\n",
       "      <td>NaN</td>\n",
       "      <td>NaN</td>\n",
       "      <td>NaN</td>\n",
       "      <td>148000000</td>\n",
       "      <td>0.153479</td>\n",
       "      <td>0</td>\n",
       "      <td>NaN</td>\n",
       "      <td>NaN</td>\n",
       "      <td>NaN</td>\n",
       "    </tr>\n",
       "    <tr>\n",
       "      <th>2985</th>\n",
       "      <td>NaN</td>\n",
       "      <td>NaN</td>\n",
       "      <td>NaN</td>\n",
       "      <td>NaN</td>\n",
       "      <td>NaN</td>\n",
       "      <td>NaN</td>\n",
       "      <td>150000000</td>\n",
       "      <td>0.148</td>\n",
       "      <td>0</td>\n",
       "      <td>NaN</td>\n",
       "      <td>NaN</td>\n",
       "      <td>NaN</td>\n",
       "    </tr>\n",
       "  </tbody>\n",
       "</table>\n",
       "<p>2986 rows × 12 columns</p>\n",
       "</div>"
      ],
      "text/plain": [
       "            Be-9 el.scattering   capture         H-1 el.scattering.1  \\\n",
       "0     Energy(eV)         XS(b)     XS(b)  Energy(eV)           XS(b)   \n",
       "1        0.00001       118.253  0.504006     0.00001         1173.11   \n",
       "2        0.00001       116.451  0.496311     0.00001          1155.2   \n",
       "3       0.000011        114.73  0.488958    0.000011         1138.09   \n",
       "4       0.000011       113.083  0.481922    0.000011         1121.72   \n",
       "...          ...           ...       ...         ...             ...   \n",
       "2981         NaN           NaN       NaN         NaN             NaN   \n",
       "2982         NaN           NaN       NaN         NaN             NaN   \n",
       "2983         NaN           NaN       NaN         NaN             NaN   \n",
       "2984         NaN           NaN       NaN         NaN             NaN   \n",
       "2985         NaN           NaN       NaN         NaN             NaN   \n",
       "\n",
       "     capture.1        O-16 el.scattering.2 capture.2        C-12  \\\n",
       "0        XS(b)  Energy(eV)           XS(b)     XS(b)  Energy(eV)   \n",
       "1      16.7299     0.00001         54.7724  0.008545     0.00001   \n",
       "2      16.4744     0.00001         53.9395  0.008415     0.00001   \n",
       "3      16.2303    0.000011         53.1438   0.00829    0.000011   \n",
       "4      15.9968    0.000011         52.3824  0.008171    0.000011   \n",
       "...        ...         ...             ...       ...         ...   \n",
       "2981       NaN   142000000        0.170414         0         NaN   \n",
       "2982       NaN   144000000        0.164747         0         NaN   \n",
       "2983       NaN   146000000         0.15908         0         NaN   \n",
       "2984       NaN   148000000        0.153479         0         NaN   \n",
       "2985       NaN   150000000           0.148         0         NaN   \n",
       "\n",
       "     el.scattering.3 capture.3  \n",
       "0              XS(b)     XS(b)  \n",
       "1            79.1113  0.194257  \n",
       "2            77.9072  0.191291  \n",
       "3            76.7566  0.188457  \n",
       "4            75.6557  0.185745  \n",
       "...              ...       ...  \n",
       "2981             NaN       NaN  \n",
       "2982             NaN       NaN  \n",
       "2983             NaN       NaN  \n",
       "2984             NaN       NaN  \n",
       "2985             NaN       NaN  \n",
       "\n",
       "[2986 rows x 12 columns]"
      ]
     },
     "execution_count": 20,
     "metadata": {},
     "output_type": "execute_result"
    }
   ],
   "source": [
    "cxData_shielding"
   ]
  },
  {
   "cell_type": "markdown",
   "metadata": {},
   "source": [
    "### Energy에 따라서 새로운 H2O Cx 생성\n",
    "\n",
    "- 거시적 단면적 다 더할거라매요 \n",
    "- $\\Sigma$_H2O = 2 * $\\Sigma$_H1 + 1 * $\\Sigma$_O-16"
   ]
  },
  {
   "cell_type": "code",
   "execution_count": 5,
   "metadata": {},
   "outputs": [],
   "source": [
    "H1_macroElastic = H1_elasticScattering * H1_numberdensity * barn\n",
    "H1_macroCapture = H1_capture * H1_numberdensity * barn\n",
    "H1_macroCx = H1_macroElastic + H1_macroCapture"
   ]
  },
  {
   "cell_type": "code",
   "execution_count": 6,
   "metadata": {},
   "outputs": [],
   "source": [
    "O16_macroElastic = O16_elasticScattering * O16_numberdensity * barn\n",
    "O16_macroCapture = O16_capture * O16_numberdensity * barn\n",
    "O16_macroCx = O16_macroElastic + O16_macroCapture"
   ]
  },
  {
   "cell_type": "markdown",
   "metadata": {},
   "source": [
    "### Data 준비 완료\n",
    "\n",
    "- H1의 에너지에 따라서, H2O Cx를 만들고 싶음"
   ]
  },
  {
   "cell_type": "markdown",
   "metadata": {},
   "source": [
    "### O-16의 Elastic Capture 데이터 전처리 해줘야 함.\n",
    "### 우리는 H1의 에너지 bin에 맞춰서 사용할거임."
   ]
  },
  {
   "cell_type": "code",
   "execution_count": 21,
   "metadata": {},
   "outputs": [],
   "source": [
    "def calcuO16Value(energy: float, whichCx: str) -> float:\n",
    "    \"\"\"\n",
    "    energy를 받아서, 그 에너지에 대한 O16의 cx 데이터를 가져오는 거임\n",
    "    \"\"\"\n",
    "    prevIdx, prevEnergy = 1., 0.\n",
    "\n",
    "    if whichCx == \"Elastic\":\n",
    "        tmpMacroCxData = O16_macroElastic\n",
    "\n",
    "    elif whichCx == \"Capture\":\n",
    "        tmpMacroCxData = O16_macroCapture\n",
    "\n",
    "    for idx, tmpEnergy in O16_Energylst.items():\n",
    "        if energy <= tmpEnergy: ### tmp Energy 사용 \n",
    "            ### Interpolation \n",
    "            ### 사용 가능한 값 -> idx, tmpEnergy\n",
    "            ### 이전 값: idx-1, prevEnergy \n",
    "            ### 현재 값: idx, tmpEnergy\n",
    "            prevCxValue = tmpMacroCxData[prevIdx]\n",
    "            curCxValue = tmpMacroCxData[idx]\n",
    "            KE = energy\n",
    "            curEnergy = tmpEnergy\n",
    "            \n",
    "            ### 오류가 난 부분이 20 MeV 넘는 초과하는 energy가 들어오면, 이 부분이 안 돈다는 건데\n",
    "            resultCxValue = \\\n",
    "                prevCxValue + (KE-prevEnergy) * ((curCxValue-prevCxValue)/(curEnergy-prevEnergy))\n",
    "\n",
    "            # print(KE, tmpEnergy, resultCxValue)\n",
    "            break;\n",
    "            \n",
    "\n",
    "        else:\n",
    "            prevIdx = idx\n",
    "            prevEnergy = tmpEnergy\n",
    "        \n",
    "    return resultCxValue"
   ]
  },
  {
   "cell_type": "code",
   "execution_count": 26,
   "metadata": {},
   "outputs": [],
   "source": [
    "### initializing\n",
    "H2O_macroElastic = []\n",
    "H2O_macroCapture = []\n",
    "\n",
    "### Macro Elastic Cx\n",
    "for idx, energy in H1_Energylst.items():\n",
    "    \"\"\"\n",
    "    energy => eV 단위로 들어와 있고요 idx 는 1 부터 시작을 해요\n",
    "    \"\"\"\n",
    "    \n",
    "    if (np.isnan(energy)):\n",
    "        break;\n",
    "\n",
    "    # macroElastic = H1_macroElastic[idx] * 2 + O16_macroElastic[idx]\n",
    "    tmpmacroElastic = H1_macroElastic[idx] * 2 + calcuO16Value(energy, \"Elastic\")\n",
    "    tmpmacroCapture = H1_macroCapture[idx] * 2 + calcuO16Value(energy, \"Capture\")\n",
    "    H2O_macroElastic.append(tmpmacroElastic)\n",
    "    H2O_macroCapture.append(tmpmacroCapture)\n",
    "\n",
    "H2O_macroElastic = np.array(H2O_macroElastic)\n",
    "H2O_macroCapture = np.array(H2O_macroCapture)"
   ]
  },
  {
   "cell_type": "code",
   "execution_count": 24,
   "metadata": {},
   "outputs": [],
   "source": [
    "# for elastic, capture in zip(H2O_macroElastic, H2O_macroCapture):\n",
    "#     print(elastic, capture)"
   ]
  },
  {
   "cell_type": "code",
   "execution_count": 31,
   "metadata": {},
   "outputs": [
    {
     "name": "stdout",
     "output_type": "stream",
     "text": [
      "3.3372844831222972e+19\n"
     ]
    }
   ],
   "source": [
    "H2O_microElastic = []\n",
    "H2O_microCapture = []\n",
    "\n",
    "H2O_numberdensity = (Na / 18.015248) * 0.000998207\n",
    "print(H2O_numberdensity)\n",
    "\n",
    "H2O_microElastic = H2O_macroElastic / H2O_numberdensity\n",
    "H2O_microCapture = H2O_macroCapture / H2O_numberdensity"
   ]
  },
  {
   "cell_type": "code",
   "execution_count": 36,
   "metadata": {},
   "outputs": [],
   "source": [
    "# for elastic, capture in zip(H2O_microElastic, H2O_microCapture):\n",
    "#     print(elastic / barn, capture / barn)"
   ]
  },
  {
   "cell_type": "code",
   "execution_count": 58,
   "metadata": {},
   "outputs": [],
   "source": [
    "# # print(len(H1_Energylst.dropna()))\n",
    "energylst = H1_Energylst.dropna()\n",
    "# total = H2O_microCapture + H2O_microElastic\n",
    "# # print(len(total))\n",
    "# plt.scatter(x = energylst, y = H2O_microCapture + H2O_microElastic)\n",
    "# plt.yscale(\"log\")\n",
    "# plt.xscale(\"log\")\n",
    "# plt.xlim(10000,10000000)\n",
    "# plt.ylim(1.e-23, 5.e-22)"
   ]
  },
  {
   "cell_type": "markdown",
   "metadata": {},
   "source": [
    "# O2"
   ]
  },
  {
   "cell_type": "code",
   "execution_count": 53,
   "metadata": {},
   "outputs": [],
   "source": [
    "# O16_Energylst = cxData_shielding[\"O-16\"].drop(0)\n",
    "# O16_elasticScattering = cxData_shielding[\"el.scattering.2\"].drop(0)\n",
    "# O16_capture = cxData_shielding[\"capture.2\"].drop(0)\n",
    "# O16_numberdensity = (Na / 15.999) * 0.001332\n",
    "\n",
    "O2_microElastic = O16_elasticScattering * 2\n",
    "O2_microCapture = O16_capture * 2"
   ]
  },
  {
   "cell_type": "code",
   "execution_count": 55,
   "metadata": {},
   "outputs": [],
   "source": [
    "# for i, j in zip(O2_microElastic, O2_microCapture):\n",
    "#     print(i, j)"
   ]
  },
  {
   "cell_type": "markdown",
   "metadata": {},
   "source": [
    "### Export Data\n",
    "- 1E-05       0.503984     Lin-Lin\n",
    "- 1.10304E-05 0.479868     Lin-Lin\n",
    "- 1.21669E-05 0.456906     Lin-Lin"
   ]
  },
  {
   "cell_type": "code",
   "execution_count": 90,
   "metadata": {},
   "outputs": [],
   "source": [
    "df1 = pd.DataFrame(H2O_microElastic)\n",
    "df2 = pd.DataFrame(H2O_microCapture)\n",
    "df3 = pd.DataFrame(O2_microElastic)\n",
    "df4 = pd.DataFrame(O2_microCapture)\n",
    "\n",
    "f = open(\"./H2O_elastic.txt\", \"w\")\n",
    "for idx, cxVal in df1[0].items():\n",
    "    result = str(energylst[idx+1]) + \"\\t\" + str(cxVal) + \"\\t\" + \"Lin-Lin\\n\"\n",
    "    # print(result)\n",
    "    f.write(result)\n",
    "f.close()\n",
    "\n",
    "f = open(\"./H2O_capture.txt\", \"w\")\n",
    "for idx, cxVal in df2[0].items():\n",
    "    result = str(energylst[idx+1]) + \"\\t\" + str(cxVal) + \"\\t\" + \"Lin-Lin\\n\"\n",
    "    # print(result)\n",
    "    f.write(result)\n",
    "f.close()\n",
    "\n",
    "f = open(\"./O2_elastic.txt\", \"w\")\n",
    "for idx, cxVal in df3[\"el.scattering.2\"].items():\n",
    "    result = str(O16_Energylst[idx]) + \"\\t\" + str(cxVal) + \"\\t\" + \"Lin-Lin\\n\"\n",
    "    # print(result)\n",
    "    f.write(result)\n",
    "f.close()\n",
    "\n",
    "f = open(\"./O2_capture.txt\", \"w\")\n",
    "for idx, cxVal in df4[\"capture.2\"].items():\n",
    "    result = str(O16_Energylst[idx]) + \"\\t\" + str(cxVal) + \"\\t\" + \"Lin-Lin\\n\"\n",
    "    # print(result)\n",
    "    f.write(result)\n",
    "f.close()"
   ]
  },
  {
   "cell_type": "code",
   "execution_count": null,
   "metadata": {},
   "outputs": [],
   "source": []
  },
  {
   "cell_type": "code",
   "execution_count": 260,
   "metadata": {},
   "outputs": [],
   "source": [
    "### Graphite\n",
    "\n",
    "C12_Energylst = cxData_shielding[\"C-12\"].drop(0).dropna()\n",
    "C12_elasticScattering = cxData_shielding[\"el.scattering.3\"].drop(0).dropna()\n",
    "C12_capture = cxData_shielding[\"capture.3\"].drop(0).dropna()\n",
    "\n",
    "C12_microElastic = C12_elasticScattering\n",
    "C12_microCapture = C12_capture\n",
    "\n",
    "df1 = pd.DataFrame(C12_microElastic)\n",
    "df2 = pd.DataFrame(C12_microCapture)\n",
    "\n",
    "f = open(\"./Graphite_elastic.txt\", \"w\")\n",
    "for idx, cxVal in df1[\"el.scattering.3\"].items():\n",
    "    result = str(C12_Energylst[idx]) + \"\\t\" + str(cxVal) + \"\\t\" + \"Lin-Lin\\n\"\n",
    "    # print(result)\n",
    "    f.write(result)\n",
    "f.close()\n",
    "\n",
    "f = open(\"./Graphite_capture.txt\", \"w\")\n",
    "for idx, cxVal in df2[\"capture.3\"].items():\n",
    "    result = str(C12_Energylst[idx]) + \"\\t\" + str(cxVal) + \"\\t\" + \"Lin-Lin\\n\"\n",
    "    # print(result)\n",
    "    f.write(result)\n",
    "f.close()"
   ]
  },
  {
   "cell_type": "markdown",
   "metadata": {},
   "source": [
    "# Outer Material\n",
    "- ss304\n",
    "- concrete"
   ]
  },
  {
   "cell_type": "code",
   "execution_count": 236,
   "metadata": {},
   "outputs": [],
   "source": [
    "cxData_ss304 = pd.read_excel(\"./cxData.xlsx\", sheet_name = \"ASS304\")"
   ]
  },
  {
   "cell_type": "markdown",
   "metadata": {},
   "source": [
    "C 6000 6000 0.000400 0.001830 0.000160  \n",
    "Si 14000 14000 0.005000 0.009781 0.000858  \n",
    "P 15031 15000 0.000230 0.000408 0.000036  \n",
    "S 16000 16000 0.000150 0.000257 0.000023  \n",
    "Cr 24000 24000 0.190000 0.200762 0.017605  \n",
    "Mn 25055 25000 0.010000 0.010001 0.000877  \n",
    "Fe 26000 26000 0.701730 0.690375 0.060538  \n",
    "Ni 28000 28000 0.092500 0.086587 0.007593  "
   ]
  },
  {
   "cell_type": "code",
   "execution_count": 144,
   "metadata": {},
   "outputs": [
    {
     "data": {
      "text/plain": [
       "1.0"
      ]
     },
     "execution_count": 144,
     "metadata": {},
     "output_type": "execute_result"
    }
   ],
   "source": [
    "# print(cxData_ss304.columns)\n",
    "C12_wf  = 0.000400\n",
    "Si28_wf = 0.005000\n",
    "P31_wf  = 0.000230\n",
    "S32_wf  = 0.000150\n",
    "Cr52_wf = 0.190000\n",
    "Mn55_wf = 0.010000\n",
    "Fe56_wf = 0.701720\n",
    "Ni58_wf = 0.092500\n",
    "# compositionFraction = [Cr52_wf, Mn55_wf, Si28_wf, C12_wf, P31_wf, S32_wf, Ni58_wf, Fe56_wf]\n",
    "ss304_compositionFraction = [C12_wf, Si28_wf, P31_wf, S32_wf, Cr52_wf, Mn55_wf, Fe56_wf, Ni58_wf]\n",
    "sum(ss304_compositionFraction)"
   ]
  },
  {
   "cell_type": "code",
   "execution_count": 207,
   "metadata": {},
   "outputs": [],
   "source": [
    "# cxData_ss304 = pd.read_excel(\"./cxData.xlsx\", sheet_name = \"ASS304\")\n",
    "\n",
    "ss304_energylst = []\n",
    "\n",
    "# ss304_energylst.append(cxData_ss304[\"C-12\"].drop(0).dropna()); ss304_energylst.append(cxData_ss304[\"C-12\"].drop(0).dropna())\n",
    "# ss304_energylst.append(cxData_ss304[\"Si-28\"].drop(0).dropna()); ss304_energylst.append(cxData_ss304[\"Si-28\"].drop(0).dropna())\n",
    "# ss304_energylst.append(cxData_ss304[\"P-31\"].drop(0).dropna()); ss304_energylst.append(cxData_ss304[\"P-31\"].drop(0).dropna())\n",
    "# ss304_energylst.append(cxData_ss304[\"S-32\"].drop(0).dropna()); ss304_energylst.append(cxData_ss304[\"S-32\"].drop(0).dropna())\n",
    "# ss304_energylst.append(cxData_ss304[\"Cr-52\"].drop(0).dropna()); ss304_energylst.append(cxData_ss304[\"Cr-52\"].drop(0).dropna())\n",
    "# ss304_energylst.append(cxData_ss304[\"Mn-55\"].drop(0).dropna()); ss304_energylst.append(cxData_ss304[\"Mn-55\"].drop(0).dropna())\n",
    "# ss304_energylst.append(cxData_ss304[\"Fe-56\"].drop(0).dropna()); ss304_energylst.append(cxData_ss304[\"Fe-56\"].drop(0).dropna())\n",
    "# ss304_energylst.append(cxData_ss304[\"Ni-58\"].drop(0).dropna()); ss304_energylst.append(cxData_ss304[\"Ni-58\"].drop(0).dropna())\n",
    "\n",
    "ss304_standardEnergyLst = cxData_ss304[\"P-31\"].drop(0).dropna()\n",
    "ss304_energylst.append(cxData_ss304[\"C-12\"].drop(0).dropna()) \n",
    "ss304_energylst.append(cxData_ss304[\"Si-28\"].drop(0).dropna())\n",
    "ss304_energylst.append(cxData_ss304[\"P-31\"].drop(0).dropna()) \n",
    "ss304_energylst.append(cxData_ss304[\"S-32\"].drop(0).dropna()) \n",
    "ss304_energylst.append(cxData_ss304[\"Cr-52\"].drop(0).dropna()) \n",
    "ss304_energylst.append(cxData_ss304[\"Mn-55\"].drop(0).dropna()) \n",
    "ss304_energylst.append(cxData_ss304[\"Fe-56\"].drop(0).dropna()) \n",
    "ss304_energylst.append(cxData_ss304[\"Ni-58\"].drop(0).dropna()) \n",
    "\n",
    "# ss304_energylst # 1 - 32091\n",
    "# ss304_energylst"
   ]
  },
  {
   "cell_type": "code",
   "execution_count": 225,
   "metadata": {},
   "outputs": [],
   "source": [
    "def calcuSS304CxValue(energy: float, dataEnergyLst, data) -> float:\n",
    "    \"\"\"\n",
    "    energy를 받아서, 그 에너지에 대한 O16의 cx 데이터를 가져오는 거임\n",
    "    \"\"\"\n",
    "    prevIdx, prevEnergy = 1., 0.\n",
    "\n",
    "    for idx, tmpEnergy in dataEnergyLst.items():\n",
    "        if energy <= tmpEnergy: ### tmp Energy 사용 \n",
    "            ### Interpolation \n",
    "            ### 사용 가능한 값 -> idx, tmpEnergy\n",
    "            ### 이전 값: idx-1, prevEnergy \n",
    "            ### 현재 값: idx, tmpEnergy\n",
    "            prevCxValue = data[prevIdx]\n",
    "            curCxValue = data[idx]\n",
    "            KE = energy\n",
    "            curEnergy = tmpEnergy\n",
    "            \n",
    "            # print(\"found at: \", KE, tmpEnergy)\n",
    "            ### 오류가 난 부분이 20 MeV 넘는 초과하는 energy가 들어오면, 이 부분이 안 돈다는 건데\n",
    "\n",
    "            resultCxValue = \\\n",
    "                prevCxValue + (KE-prevEnergy) * ((curCxValue-prevCxValue)/(curEnergy-prevEnergy))\n",
    "\n",
    "            # if energy == 14000000:\n",
    "            #     print(\"---Calculated value is :\", idx, resultCxValue)\n",
    "            # print(\"--- value is: \", resultCxValue)\n",
    "            \n",
    "            # print(KE, tmpEnergy, resultCxValue)\n",
    "            \n",
    "            break;\n",
    "\n",
    "        else:\n",
    "            prevIdx = idx\n",
    "            prevEnergy = tmpEnergy\n",
    "        \n",
    "    return resultCxValue"
   ]
  },
  {
   "cell_type": "code",
   "execution_count": 226,
   "metadata": {},
   "outputs": [],
   "source": [
    "ss304_compositionCxData = [] ### 2차원 배열임 (elastic, capture)\n",
    "### C12 0\n",
    "ss304_compositionCxData.append(\n",
    "    (cxData_ss304[\"el.scattering.3\"].drop(0).dropna(),\n",
    "    cxData_ss304[\"capture.3\"].drop(0).dropna())\n",
    " )\n",
    "\n",
    "### Si28 1\n",
    "ss304_compositionCxData.append(\n",
    "    (cxData_ss304[\"el.scattering.2\"].drop(0).dropna(),\n",
    "    cxData_ss304[\"capture.2\"].drop(0).dropna())\n",
    " )\n",
    "\n",
    "### P31 2\n",
    "ss304_compositionCxData.append(\n",
    "    (cxData_ss304[\"el.scattering.4\"].drop(0).dropna(),\n",
    "    cxData_ss304[\"capture.4\"].drop(0).dropna())\n",
    " )\n",
    "\n",
    "### S32 3\n",
    "ss304_compositionCxData.append(\n",
    "    (cxData_ss304[\"el.scattering.5\"].drop(0).dropna(),\n",
    "    cxData_ss304[\"capture.5\"].drop(0).dropna())\n",
    " )\n",
    "\n",
    "### Cr-52 4\n",
    "ss304_compositionCxData.append(\n",
    "    (cxData_ss304[\"el.scattering\"].drop(0).dropna(),\n",
    "    cxData_ss304[\"capture\"].drop(0).dropna())\n",
    " )\n",
    "\n",
    "### Mn-55\n",
    "ss304_compositionCxData.append(\n",
    "    (cxData_ss304[\"el.scattering.1\"].drop(0).dropna(),\n",
    "    cxData_ss304[\"capture.1\"].drop(0).dropna())\n",
    " )\n",
    "\n",
    "### Fe-56\n",
    "ss304_compositionCxData.append(\n",
    "    (cxData_ss304[\"el.scattering.8\"].drop(0).dropna(),\n",
    "    cxData_ss304[\"capture.8\"].drop(0).dropna())\n",
    " )\n",
    "\n",
    "### Mi-58\n",
    "ss304_compositionCxData.append(\n",
    "    (cxData_ss304[\"el.scattering.6\"].drop(0).dropna(),\n",
    "    cxData_ss304[\"capture.6\"].drop(0).dropna())\n",
    " )\n"
   ]
  },
  {
   "cell_type": "code",
   "execution_count": 227,
   "metadata": {},
   "outputs": [],
   "source": [
    "ss304_microElastic = []\n",
    "ss304_microCapture = []\n",
    "\n",
    "for energy in ss304_standardEnergyLst:\n",
    "    if energy >= 20_000_000:\n",
    "        break;\n",
    "    tmpElasticSum = 0.\n",
    "    tmpCaptureSum = 0.\n",
    "    for idx, wt in enumerate(ss304_compositionFraction):\n",
    "        # idx = 0, wt = C-12\n",
    "        tmpElastic = calcuSS304CxValue(energy = energy, data = ss304_compositionCxData[idx][0], dataEnergyLst = ss304_energylst[idx]) * wt # elastic\n",
    "        tmpCapture = calcuSS304CxValue(energy = energy, data = ss304_compositionCxData[idx][1], dataEnergyLst = ss304_energylst[idx]) * wt # capture\n",
    "\n",
    "        tmpElasticSum += tmpElastic\n",
    "        tmpCaptureSum += tmpCapture\n",
    "        \n",
    "        # if energy == 14000000:\n",
    "        #     print(\"result: \", energy, wt,tmpElastic)\n",
    "\n",
    "    ss304_microElastic.append(tmpElasticSum)\n",
    "    ss304_microCapture.append(tmpCaptureSum)\n",
    "\n",
    "# C12_wf  = 0.000400\n",
    "# Si28_wf = 0.005000\n",
    "# P31_wf  = 0.000230\n",
    "# S32_wf  = 0.000150\n",
    "# Cr52_wf = 0.190000\n",
    "# Mn55_wf = 0.010000\n",
    "# Fe56_wf = 0.701720\n",
    "# Ni58_wf = 0.092500"
   ]
  },
  {
   "cell_type": "code",
   "execution_count": 228,
   "metadata": {},
   "outputs": [],
   "source": [
    "# for (energy, cxVal) in list(zip(ss304_standardEnergyLst, ss304_microElastic)):\n",
    "#     print(energy, cxVal)"
   ]
  },
  {
   "cell_type": "code",
   "execution_count": 229,
   "metadata": {},
   "outputs": [],
   "source": [
    "# # 14000000 1.1577814411 ss304 검증\n",
    "# for wt in ss304_compositionFraction:\n",
    "#     print(wt)\n",
    "# # C12_wf  = 0.000400\n",
    "# # Si28_wf = 0.005000\n",
    "# # P31_wf  = 0.000230\n",
    "# # S32_wf  = 0.000150\n",
    "# # Cr52_wf = 0.190000\n",
    "# # Mn55_wf = 0.010000\n",
    "# # Fe56_wf = 0.701720\n",
    "# # Ni58_wf = 0.092500"
   ]
  },
  {
   "cell_type": "code",
   "execution_count": 230,
   "metadata": {},
   "outputs": [],
   "source": [
    "# e1 = 0.819214\n",
    "# e2 = 0.66193\n",
    "# e3 = 0.9625\n",
    "# e4 = 0.76331\n",
    "# e5 = 1.06275\n",
    "# e6 = 1.1542\n",
    "# e7 = 1.18095\n",
    "# e8 = 1.207\n",
    "# elasticValidate = np.array([e1, e2, e3, e4, e5, e6, e7, e8])"
   ]
  },
  {
   "cell_type": "code",
   "execution_count": 231,
   "metadata": {},
   "outputs": [],
   "source": [
    "# a1 = 0.000116\n",
    "# a2 = 0.00044\n",
    "# a3 = 0.0003\n",
    "# a4 = 0.00000324\n",
    "# a5 = 0.000803\n",
    "# a6 = 0.000618\n",
    "# a7 = 0.000791\n",
    "# a8 = 0.000857\n",
    "# absorptionValidate = np.array([a1, a2, a3, a4, a5, a6, a7, a8])"
   ]
  },
  {
   "cell_type": "code",
   "execution_count": 232,
   "metadata": {},
   "outputs": [],
   "source": [
    "# ss304_compositionFraction = np.array(ss304_compositionFraction)\n",
    "\n",
    "# result = elasticValidate * ss304_compositionFraction\n",
    "# result.sum()"
   ]
  },
  {
   "cell_type": "markdown",
   "metadata": {},
   "source": [
    "### ss 304 is done"
   ]
  },
  {
   "cell_type": "code",
   "execution_count": 234,
   "metadata": {},
   "outputs": [],
   "source": [
    "df1 = pd.DataFrame(ss304_microElastic)\n",
    "df2 = pd.DataFrame(ss304_microCapture)\n",
    "\n",
    "f = open(\"./ss304_elastic.txt\", \"w\")\n",
    "for idx, cxVal in df1[0].items():\n",
    "    result = str(ss304_standardEnergyLst[idx+1]) + \"\\t\" + str(cxVal) + \"\\t\" + \"Lin-Lin\\n\"\n",
    "    # print(result)\n",
    "    f.write(result)\n",
    "f.close()\n",
    "\n",
    "f = open(\"./ss304_capture.txt\", \"w\")\n",
    "for idx, cxVal in df2[0].items():\n",
    "    result = str(ss304_standardEnergyLst[idx+1]) + \"\\t\" + str(cxVal) + \"\\t\" + \"Lin-Lin\\n\"\n",
    "    # print(result)\n",
    "    f.write(result)\n",
    "f.close()"
   ]
  },
  {
   "cell_type": "markdown",
   "metadata": {},
   "source": [
    "# Concrete"
   ]
  },
  {
   "cell_type": "code",
   "execution_count": 245,
   "metadata": {},
   "outputs": [],
   "source": [
    "cxData_conc = pd.read_excel(\"./cxData.xlsx\", sheet_name = \"Concrete(2)\")"
   ]
  },
  {
   "cell_type": "code",
   "execution_count": 246,
   "metadata": {},
   "outputs": [
    {
     "data": {
      "text/plain": [
       "1.0"
      ]
     },
     "execution_count": 246,
     "metadata": {},
     "output_type": "execute_result"
    }
   ],
   "source": [
    "# print(cxData_ss304.columns)\n",
    "# print(cxData_conc.columns)\n",
    "H1_wf       = 0.004530 # none\n",
    "O16_wf      = 0.512600 # 1\n",
    "Na23_wf     = 0.015270 # 7\n",
    "Al27_wf     = 0.035550 # ss304_10\n",
    "Si28_wf     = 0.360360 # 2\n",
    "Ca40_wf     = 0.057910 # 6\n",
    "Fe56_wf     = 0.013780 # 4\n",
    "conc_compositionFraction = [H1_wf, O16_wf, Na23_wf, Al27_wf, Si28_wf, Ca40_wf, Fe56_wf]\n",
    "sum(conc_compositionFraction)"
   ]
  },
  {
   "cell_type": "code",
   "execution_count": 247,
   "metadata": {},
   "outputs": [],
   "source": [
    "conc_energylst = []\n",
    "\n",
    "conc_standardEnergyLst = cxData_conc[\"Na-23\"].drop(0).dropna()\n",
    "conc_energylst.append(cxData_conc[\"H-1\"].drop(0).dropna()) \n",
    "conc_energylst.append(cxData_conc[\"O-16\"].drop(0).dropna())\n",
    "conc_energylst.append(cxData_conc[\"Na-23\"].drop(0).dropna()) \n",
    "conc_energylst.append(cxData_ss304[\"Al-27\"].drop(0).dropna()) \n",
    "conc_energylst.append(cxData_conc[\"Si-28\"].drop(0).dropna()) \n",
    "conc_energylst.append(cxData_conc[\"Ca-40\"].drop(0).dropna()) \n",
    "conc_energylst.append(cxData_conc[\"Fe-56\"].drop(0).dropna()) "
   ]
  },
  {
   "cell_type": "code",
   "execution_count": 248,
   "metadata": {},
   "outputs": [],
   "source": [
    "def calcuCONCCxValue(energy: float, dataEnergyLst, data) -> float:\n",
    "    \"\"\"\n",
    "    energy를 받아서, 그 에너지에 대한 O16의 cx 데이터를 가져오는 거임\n",
    "    \"\"\"\n",
    "    prevIdx, prevEnergy = 1., 0.\n",
    "\n",
    "    for idx, tmpEnergy in dataEnergyLst.items():\n",
    "        if energy <= tmpEnergy: ### tmp Energy 사용 \n",
    "            ### Interpolation \n",
    "            ### 사용 가능한 값 -> idx, tmpEnergy\n",
    "            ### 이전 값: idx-1, prevEnergy \n",
    "            ### 현재 값: idx, tmpEnergy\n",
    "            prevCxValue = data[prevIdx]\n",
    "            curCxValue = data[idx]\n",
    "            KE = energy\n",
    "            curEnergy = tmpEnergy\n",
    "            \n",
    "            # print(\"found at: \", KE, tmpEnergy)\n",
    "            ### 오류가 난 부분이 20 MeV 넘는 초과하는 energy가 들어오면, 이 부분이 안 돈다는 건데\n",
    "\n",
    "            resultCxValue = \\\n",
    "                prevCxValue + (KE-prevEnergy) * ((curCxValue-prevCxValue)/(curEnergy-prevEnergy))\n",
    "\n",
    "            # if energy == 14000000:\n",
    "            #     print(\"---Calculated value is :\", idx, resultCxValue)\n",
    "            # print(\"--- value is: \", resultCxValue)\n",
    "            \n",
    "            # print(KE, tmpEnergy, resultCxValue)\n",
    "            \n",
    "            break;\n",
    "\n",
    "        else:\n",
    "            prevIdx = idx\n",
    "            prevEnergy = tmpEnergy\n",
    "        \n",
    "    return resultCxValue"
   ]
  },
  {
   "cell_type": "code",
   "execution_count": 249,
   "metadata": {},
   "outputs": [],
   "source": [
    "conc_compositionCxData = [] ### 2차원 배열임 (elastic, capture)\n",
    "\n",
    "# H1_wf       = 0.004530 # none\n",
    "# O16_wf      = 0.512600 # 1\n",
    "# Na23_wf     = 0.015270 # 7\n",
    "# Al27_wf     = 0.035550 # ss304_10\n",
    "# Si28_wf     = 0.360360 # 2\n",
    "# Ca40_wf     = 0.057910 # 6\n",
    "# Fe56_wf     = 0.013780 # 4\n",
    "\n",
    "### H1 0\n",
    "conc_compositionCxData.append(\n",
    "    (cxData_conc[\"el.scattering\"].drop(0).dropna(),\n",
    "    cxData_conc[\"capture\"].drop(0).dropna())\n",
    " )\n",
    "\n",
    "### O16 1\n",
    "conc_compositionCxData.append(\n",
    "    (cxData_conc[\"el.scattering.1\"].drop(0).dropna(),\n",
    "    cxData_conc[\"capture.1\"].drop(0).dropna())\n",
    " )\n",
    "\n",
    "### Na23 7\n",
    "conc_compositionCxData.append(\n",
    "    (cxData_conc[\"el.scattering.7\"].drop(0).dropna(),\n",
    "    cxData_conc[\"capture.7\"].drop(0).dropna())\n",
    " )\n",
    "\n",
    "### Al27 ss304_10\n",
    "conc_compositionCxData.append(\n",
    "    (cxData_ss304[\"el.scattering.10\"].drop(0).dropna(),\n",
    "    cxData_ss304[\"capture.10\"].drop(0).dropna())\n",
    " )\n",
    "\n",
    "### Si28 2\n",
    "conc_compositionCxData.append(\n",
    "    (cxData_conc[\"el.scattering.2\"].drop(0).dropna(),\n",
    "    cxData_conc[\"capture.2\"].drop(0).dropna())\n",
    " )\n",
    "\n",
    "### Ca40 6\n",
    "conc_compositionCxData.append(\n",
    "    (cxData_conc[\"el.scattering.6\"].drop(0).dropna(),\n",
    "    cxData_conc[\"capture.6\"].drop(0).dropna())\n",
    " )\n",
    "\n",
    "### Fe-56\n",
    "conc_compositionCxData.append(\n",
    "    (cxData_conc[\"el.scattering.4\"].drop(0).dropna(),\n",
    "    cxData_conc[\"capture.4\"].drop(0).dropna())\n",
    " )\n"
   ]
  },
  {
   "cell_type": "code",
   "execution_count": 250,
   "metadata": {},
   "outputs": [],
   "source": [
    "conc_microElastic = []\n",
    "conc_microCapture = []\n",
    "\n",
    "for energy in conc_standardEnergyLst:\n",
    "    if energy >= 20_000_000:\n",
    "        break;\n",
    "    tmpElasticSum = 0.\n",
    "    tmpCaptureSum = 0.\n",
    "    for idx, wt in enumerate(conc_compositionFraction):\n",
    "        # idx = 0, wt = C-12\n",
    "        tmpElastic = calcuCONCCxValue(energy = energy, data = conc_compositionCxData[idx][0], dataEnergyLst = conc_energylst[idx]) * wt # elastic\n",
    "        tmpCapture = calcuCONCCxValue(energy = energy, data = conc_compositionCxData[idx][1], dataEnergyLst = conc_energylst[idx]) * wt # capture\n",
    "\n",
    "        tmpElasticSum += tmpElastic\n",
    "        tmpCaptureSum += tmpCapture\n",
    "        \n",
    "        # if energy == 14000000:\n",
    "        #     print(\"result: \", energy, wt,tmpElastic)\n",
    "\n",
    "    conc_microElastic.append(tmpElasticSum)\n",
    "    conc_microCapture.append(tmpCaptureSum)"
   ]
  },
  {
   "cell_type": "code",
   "execution_count": 252,
   "metadata": {},
   "outputs": [],
   "source": [
    "# for (energy, cxVal) in list(zip(conc_standardEnergyLst, conc_microElastic)):\n",
    "#     print(energy, cxVal)"
   ]
  },
  {
   "cell_type": "code",
   "execution_count": null,
   "metadata": {},
   "outputs": [],
   "source": [
    "# 14000000 0.8401939257899999"
   ]
  },
  {
   "cell_type": "code",
   "execution_count": 254,
   "metadata": {},
   "outputs": [],
   "source": [
    "df1 = pd.DataFrame(conc_microElastic)\n",
    "df2 = pd.DataFrame(conc_microCapture)\n",
    "\n",
    "f = open(\"./conc_elastic.txt\", \"w\")\n",
    "for idx, cxVal in df1[0].items():\n",
    "    result = str(conc_standardEnergyLst[idx+1]) + \"\\t\" + str(cxVal) + \"\\t\" + \"Lin-Lin\\n\"\n",
    "    # print(result)\n",
    "    f.write(result)\n",
    "f.close()\n",
    "\n",
    "f = open(\"./conc_capture.txt\", \"w\")\n",
    "for idx, cxVal in df2[0].items():\n",
    "    result = str(conc_standardEnergyLst[idx+1]) + \"\\t\" + str(cxVal) + \"\\t\" + \"Lin-Lin\\n\"\n",
    "    # print(result)\n",
    "    f.write(result)\n",
    "f.close()"
   ]
  },
  {
   "cell_type": "code",
   "execution_count": null,
   "metadata": {},
   "outputs": [],
   "source": []
  }
 ],
 "metadata": {
  "kernelspec": {
   "display_name": "Python 3.9.11 ('data_process')",
   "language": "python",
   "name": "python3"
  },
  "language_info": {
   "codemirror_mode": {
    "name": "ipython",
    "version": 3
   },
   "file_extension": ".py",
   "mimetype": "text/x-python",
   "name": "python",
   "nbconvert_exporter": "python",
   "pygments_lexer": "ipython3",
   "version": "3.9.11"
  },
  "orig_nbformat": 4,
  "vscode": {
   "interpreter": {
    "hash": "dfd2a5afecea685298f8d29aea0ff5e7f3ac8235db3b49ae1636aa5994e0e9c4"
   }
  }
 },
 "nbformat": 4,
 "nbformat_minor": 2
}
